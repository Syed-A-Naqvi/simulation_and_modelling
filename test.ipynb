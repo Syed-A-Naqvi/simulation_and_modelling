{
 "cells": [
  {
   "cell_type": "code",
   "execution_count": null,
   "metadata": {},
   "outputs": [],
   "source": [
    "import math as m\n",
    "import numpy as np\n",
    "import matplotlib.pyplot as plt"
   ]
  },
  {
   "cell_type": "code",
   "execution_count": null,
   "metadata": {},
   "outputs": [],
   "source": [
    "def rot(angle, v):\n",
    "    # rotates vector v by some angle \n",
    "    # angle in radians\n",
    "    return np.dot([[np.cos(angle), -np.sin(angle)],[np.sin(angle), np.cos(angle)]], v)\n",
    "\n",
    "# A little hack to set the floor at a slant of 10 degrees\n",
    "floor_angle = np.deg2rad(10)\n",
    "floor_normal = rot(floor_angle + np.deg2rad(90), [1,0])\n",
    "print ('floor_angle', np.rad2deg(floor_angle))\n",
    "print ('floor_normal', floor_normal)\n",
    "\n",
    "# Setup figure\n",
    "fig = plt.figure(1)\n",
    "ax = plt.axes(xlim=(-150, 20), ylim=(-100, 110))\n",
    "plt.grid()\n",
    "line, = ax.plot([], [], '-')\n",
    "time_template = 'time = %.1fs'\n",
    "time_text = ax.text(0.05, 0.9, '', transform=ax.transAxes)\n",
    "frame_template = 'frame = %d'\n",
    "frame_text = ax.text(0.05, 0.85, '', transform=ax.transAxes)\n",
    "plt.title('xy location')\n",
    "plt.xlabel('x')\n",
    "plt.ylabel('y')\n",
    "\n",
    "x0 = -200\n",
    "y0 = x0 * np.sin(floor_angle)\n",
    "x1 = 200\n",
    "y1 = x1 * np.sin(floor_angle)\n",
    "plt.plot([x0, x1], [y0, y1], 'g-')\n"
   ]
  }
 ],
 "metadata": {
  "kernelspec": {
   "display_name": "sim_modelling_vision",
   "language": "python",
   "name": "python3"
  },
  "language_info": {
   "codemirror_mode": {
    "name": "ipython",
    "version": 3
   },
   "file_extension": ".py",
   "mimetype": "text/x-python",
   "name": "python",
   "nbconvert_exporter": "python",
   "pygments_lexer": "ipython3",
   "version": "3.13.1"
  }
 },
 "nbformat": 4,
 "nbformat_minor": 2
}
