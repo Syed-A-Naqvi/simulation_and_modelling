{
 "cells": [
  {
   "cell_type": "code",
   "execution_count": null,
   "metadata": {},
   "outputs": [],
   "source": [
    "import math as m\n",
    "import numpy as np"
   ]
  },
  {
   "cell_type": "code",
   "execution_count": null,
   "metadata": {},
   "outputs": [],
   "source": [
    "a = 0\n",
    "b = 0\n",
    "arr = np.array([a,b])\n",
    "print(arr)\n",
    "arr[0] = 3\n",
    "print(arr, a)"
   ]
  },
  {
   "cell_type": "code",
   "execution_count": null,
   "metadata": {},
   "outputs": [],
   "source": [
    "p1 = np.array([1,1])\n",
    "p2 = np.array([4,3])\n",
    "u = p1-p2\n",
    "u_hat = 1/np.linalg.norm(u) * u\n",
    "Fgx1 = np.round(3*u_hat[0], 2)\n",
    "Fgy1 = np.round(3*u_hat[1], 2)"
   ]
  },
  {
   "cell_type": "code",
   "execution_count": null,
   "metadata": {},
   "outputs": [],
   "source": [
    "theta = -np.arctan(u[0]/u[1]) - np.pi/2 \n",
    "Fgx2 = np.round(3*np.cos(theta), 2)\n",
    "Fgy2 = np.round(3*np.sin(theta), 2)\n",
    "\n",
    "print(f\"{Fgx1 == Fgx2}, {Fgy1 == Fgy2}\")"
   ]
  },
  {
   "cell_type": "code",
   "execution_count": null,
   "metadata": {},
   "outputs": [],
   "source": [
    "class Hypotenuse:\n",
    "    def __init__(self, a = 0, b=0):\n",
    "        self.hyp = np.sqrt(a*a + b*b)\n",
    "    \n",
    "    def print(self):\n",
    "        print(f\"hypotenuse of a tringle with sidelengths a={self.a} and b={self.b} = {self.hyp}\")\n",
    "\n",
    "hyp_dict = {}\n",
    "hyp_dict['1'] = Hypotenuse(1,1)\n",
    "hyp_dict['5'] = Hypotenuse(3,4)\n",
    "\n",
    "for h in hyp_dict:\n",
    "    print(h)\n",
    "\n"
   ]
  }
 ],
 "metadata": {
  "kernelspec": {
   "display_name": "Python (ml)",
   "language": "python",
   "name": "ml"
  },
  "language_info": {
   "codemirror_mode": {
    "name": "ipython",
    "version": 3
   },
   "file_extension": ".py",
   "mimetype": "text/x-python",
   "name": "python",
   "nbconvert_exporter": "python",
   "pygments_lexer": "ipython3",
   "version": "3.12.8"
  }
 },
 "nbformat": 4,
 "nbformat_minor": 2
}
